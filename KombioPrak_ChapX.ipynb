{
  "nbformat": 4,
  "nbformat_minor": 0,
  "metadata": {
    "colab": {
      "provenance": [],
      "authorship_tag": "ABX9TyPQMLhoAXkj326O5zS14R2J",
      "include_colab_link": true
    },
    "kernelspec": {
      "name": "python3",
      "display_name": "Python 3"
    },
    "language_info": {
      "name": "python"
    }
  },
  "cells": [
    {
      "cell_type": "markdown",
      "metadata": {
        "id": "view-in-github",
        "colab_type": "text"
      },
      "source": [
        "<a href=\"https://colab.research.google.com/github/DiahKurnillah/Praktikum-Komputasi-Biomedis/blob/main/KombioPrak_ChapX.ipynb\" target=\"_parent\"><img src=\"https://colab.research.google.com/assets/colab-badge.svg\" alt=\"Open In Colab\"/></a>"
      ]
    },
    {
      "cell_type": "markdown",
      "source": [
        "## **Chapter 10: Richardson Extrapolation: Derivatives**\n",
        "---\n",
        "**Tujuan**: Untuk menentukan turunan numerik menggunakan ekstrapolasi Richardson dan mengetahui kelebihan dan kekurangannya dibandingkan dengan metode turunan numerik lainnya.\n",
        "\n",
        "**Literature Review**\n",
        "\n",
        "Ekstrapolasi Richardson adalah metode numerik untuk meningkatkan akurasi. Ekstrapolasi Richardson dapat diterapkan dalam turunan numerik untuk mendapatkan solusi yang lebih akurat. Misalkan $D(h)$ dan $D(2h)$ adalah perkiraan $f'(x0)$ dengan mengambil titik-titik yang masing-masing berjarak h dan 2h. Sebagai contoh, untuk menghitung $f '(x0)$, rumus untuk pendekatan perbedaan pusat $O(h2)$ digunakan:\n",
        "\n",
        "$$D(h)=\\frac{(f_1-f_{-1})}{2h}+O(h^2)$$\n",
        "$$=f_o'+Ch^2+⋯ \t(1)$$\n",
        "$$D(2h)=\\frac{(f_2-f_{-2})}{2h}+O((2h)^2)$$\n",
        "$$=f_o'+C(2h)^2+⋯$$\n",
        "$$=f_o'+4Ch^2+⋯  \t(2)$$\n",
        "\n",
        "Dari persamaan (1) dan (2) akan kita dapatkan\n",
        "\n",
        "$$D(h)-D(2h)=-3Ch_2$$\n",
        "$$C=\\frac{D(h)-D(2h)}{-3Ch_2 }$$\n",
        "$$D(h)=f_0'+\\frac{[D(h)-D(2h)] h^2}{-3h^2}$$\n",
        "$$0=f_0'-\\frac{1}{3}[D(h)-D(2h)]$$\n",
        "$$f_0'=D(h)+\\frac{1}{3}[D(h)-D(2h)]$$\n",
        "\n",
        "Ekstrapolasi Richardson dapat diperluas untuk meningkatkan fungsi turunan. Aturan di atas dapat ditulis:\n",
        "$$f_0'=D(h)+\\frac{1}{2^n-1}[D(h)-D(2h)]$$\n",
        "Dimana n adalah orde kesalahan dari rumus yang digunakan. Sebagai contoh rumus yang digunakan untuk orde beda tengah $O(h^2)$ dalam menghitung $D(h)$ dan $D(2h)$, maka n = 2, sehingga rumus ekstrapolasi Richardson adalah seperti pada persamaan diatas. Perhatikan juga bahwa setiap perluasan ekstrapolasi Richardson akan meningkatkan orde kesalahan dari $O(h_n)$ menjadi $O(h_{n+2})$.\n"
      ],
      "metadata": {
        "id": "RpYv6bOwQ26G"
      }
    },
    {
      "cell_type": "markdown",
      "source": [
        "# Preliminary Task\n",
        "Diberikan data sebagai berikut\n",
        "\n",
        "|X|\t2.0|\t2.1|\t2.2|\t2.3|\t2.4|\t2.5|\t2.6|\t2.7|\t2.8|\t2.9|\t3.0|\n",
        "|----|---------|---------|---------|---------|---------|---------|---------|-----|---------|---------|---------|\n",
        "|f(x)|\t0.42298|\t0.40051|\t0.37507|\t0.34718|\t0.31729|\t0.28587|\t0.25773|\t0.22008|\t0.18649|\t0.15290|\t0.11963|\n",
        "\n",
        "Tentukan f '(2.5) dengan mengekstrapolasi Richardson jika D(h) dan D(2h) dihitung dengan rumus orde beda tengah O(h2) sampai 5 angka penting!\n"
      ],
      "metadata": {
        "id": "jUag1pksY2mA"
      }
    },
    {
      "cell_type": "code",
      "source": [
        "import math\n",
        "import matplotlib.pyplot as plt\n",
        "import numpy as np\n",
        "def central_difference(f, x, h):\n",
        "    return (f(x + h) - f(x - h)) / (2 * h)\n",
        "\n",
        "# Data\n",
        "x_values = [2.0, 2.1, 2.2, 2.3, 2.4, 2.5, 2.6, 2.7, 2.8, 2.9, 3.0]\n",
        "f_values = [0.42298, 0.40051, 0.37507, 0.34718, 0.31729, 0.28587, 0.25773, 0.22008, 0.18649, 0.15290, 0.11963]\n",
        "\n",
        "# Pilih nilai x=2.5 untuk menghitung f'(2.5)\n",
        "x_target = 2.5\n",
        "\n",
        "h = 0.1\n",
        "D_h = central_difference(lambda x: f_values[x_values.index(x)], x_target, h)\n",
        "\n",
        "h_2 = 2 * h\n",
        "D_2h = central_difference(lambda x: f_values[x_values.index(x)], x_target, h_2)\n",
        "\n",
        "Q_h = (4 * D_2h - D_h) / 3\n",
        "\n",
        "print(f\"f'(2.5) dengan ekstrapolasi Richardson: {Q_h:.5f}\")\n"
      ],
      "metadata": {
        "id": "hXx4n3dlWb5V",
        "colab": {
          "base_uri": "https://localhost:8080/"
        },
        "outputId": "81f20b65-f1b3-49c0-8d72-e9f454b0d772"
      },
      "execution_count": null,
      "outputs": [
        {
          "output_type": "stream",
          "name": "stdout",
          "text": [
            "f'(2.5) dengan ekstrapolasi Richardson: -0.32440\n"
          ]
        }
      ]
    },
    {
      "cell_type": "markdown",
      "source": [
        "## Task 1\n",
        "Let assume $D(2h)$ and $D(4h)$ are the approximate derivation of $f '(x0)$ with the interval $2h$ and $4h$ using the formula of the order of center-order $O(h^4)$. By using the Richardson extrapolation, calculate the better estimate of $f '(x0)$: $$𝑓0′=𝐷(2ℎ)+\\frac{[𝐷(2ℎ )−𝐷 (4ℎ)]}{15}$$\n",
        "Determine the approximate derivation of $f '(1.2)$ if the function is $𝑓(𝑥)=𝑒^𝑥$ in the interval $[0.8, 1.6]$ with $h = 0.1.$"
      ],
      "metadata": {
        "id": "ciVYvC9eVbYk"
      }
    },
    {
      "cell_type": "code",
      "execution_count": null,
      "metadata": {
        "colab": {
          "base_uri": "https://localhost:8080/",
          "height": 540
        },
        "id": "MXnml6KxQyP2",
        "outputId": "ddb6f25b-56b1-4202-d37b-450463873aaa"
      },
      "outputs": [
        {
          "output_type": "stream",
          "name": "stdout",
          "text": [
            "Nilai perkiraan dari f'(1.2): 3.324544\n",
            "Nilai turunan f'x0: 3.320117\n",
            "Error: 0.004427\n"
          ]
        },
        {
          "output_type": "display_data",
          "data": {
            "text/plain": [
              "<Figure size 1000x600 with 1 Axes>"
            ],
            "image/png": "[encoded data removed]"
          },
          "metadata": {}
        }
      ],
      "source": [
        "import math\n",
        "import matplotlib.pyplot as plt\n",
        "import numpy as np\n",
        "\n",
        "# Define the function f(x)\n",
        "def f(x):\n",
        "    return math.exp(x)\n",
        "\n",
        "# Define the Richardson extrapolation formula\n",
        "def richardson_extrapolation(D_2h, D_4h):\n",
        "    return D_2h + (D_2h - D_4h) / 15\n",
        "\n",
        "# Calculate the central difference approximation of f'(x) with interval 2h\n",
        "def central_difference_2h(x, h):\n",
        "    return (f(x + h) - f(x - h)) / (2 * h)\n",
        "\n",
        "# Calculate the central difference approximation of f'(x) with interval 4h\n",
        "def central_difference_4h(x, h):\n",
        "    return (f(x + 2 * h) - f(x - 2 * h)) / (4 * h)\n",
        "\n",
        "# Given values\n",
        "x0 = 1.2\n",
        "h = 0.1\n",
        "\n",
        "# Calculate D(2h) and D(4h)\n",
        "D_2h = central_difference_2h(x0, h)\n",
        "D_4h = central_difference_4h(x0, h)\n",
        "\n",
        "# Calculate the better estimate of f'(x0) using Richardson extrapolation\n",
        "f_prime_0 = richardson_extrapolation(D_2h, D_4h)\n",
        "\n",
        "print(f\"Nilai perkiraan dari f'({x0}): {f_prime_0:.6f}\")\n",
        "\n",
        "# Calculate the true derivative at x0\n",
        "true_derivative = math.exp(x0)\n",
        "\n",
        "# Calculate the error\n",
        "error = abs(true_derivative - f_prime_0)\n",
        "\n",
        "print(f\"Nilai turunan f'x0: {true_derivative:.6f}\")\n",
        "print(f\"Error: {error:.6f}\")\n",
        "\n",
        "x_values = np.linspace(0.8, 1.6, 100)\n",
        "y_values = [f(x) for x in x_values]\n",
        "\n",
        "plt.figure(figsize=(10, 6))\n",
        "plt.plot(x_values, y_values, label='f(x)')\n",
        "plt.scatter(x0, f(x0), color='red', marker='o', label=f'Point ({x0}, f({x0}))')\n",
        "plt.title('Function and Richardson Extrapolation')\n",
        "plt.xlabel('x')\n",
        "plt.ylabel('f(x)')\n",
        "plt.legend()\n",
        "plt.grid(True)\n",
        "plt.show()"
      ]
    },
    {
      "cell_type": "markdown",
      "source": [
        "Di dapat nilai $f'(1.2)$ dengan metode Richardson adalah $3.324544$, kemudian kita membandingkan nilai turunan yang didapat dengan nilai turunan jika $f'(1.2)$"
      ],
      "metadata": {
        "id": "6kaTqEX9lLyf"
      }
    },
    {
      "cell_type": "markdown",
      "source": [
        "Kita mendapatkan hasil sebesar $3.320117$ dengan error $0.004427$"
      ],
      "metadata": {
        "id": "5zjeVnqNlrIO"
      }
    },
    {
      "cell_type": "code",
      "source": [
        "import numpy as np\n",
        "\n",
        "def f(x):\n",
        "  return np.exp(x)\n",
        "\n",
        "def f_turunan(x):\n",
        "  return np.exp(x)\n",
        "\n",
        "def richardson_extrapolation(d2h, d4h):\n",
        "  return d2h + (d2h - d4h) / 15\n",
        "\n",
        "x = 1.2\n",
        "n = (1.6 - 0.8)/ 0.1\n",
        "h = 0.1\n",
        "h2 = 2*h\n",
        "h4 = 4*h\n",
        "\n",
        "d2h = (f(x + h2) - f(x - h2)) / (2 * h2)\n",
        "d4h = (f(x + h4) - f(x - h4)) / (2 * h4)\n",
        "\n",
        "print (f\"Nilai dari f'({x}) = {f_turunan(x):.6f}\")\n",
        "\n",
        "# Calculate the better estimate of f'(x0) using Richardson extrapolation\n",
        "f_prime_0 = richardson_extrapolation(d2h, d4h)\n",
        "\n",
        "print(f\"Nilai perkiraan dari f'({x}) dengan Richardson extrapolation: {f_prime_0:.6f}\")\n",
        "print (\"===========================================================================\\n\")\n",
        "\n",
        "for k in np.arange(n):\n",
        "  f0 = d2h + (d2h - d4h)/(2**k - 1)\n",
        "  error = abs (f_turunan(x) - f0)\n",
        "  print (f\"Orde : {k}\")\n",
        "  print (f\"Nilai perkiraan dari f'({x}) dengan Richardson extrapolation: {f0:.6f}\")\n",
        "  print (f\"Error : {error:.6f}\")\n",
        "  print ()"
      ],
      "metadata": {
        "colab": {
          "base_uri": "https://localhost:8080/"
        },
        "id": "VmkfVpoZ5XD4",
        "outputId": "357c24f5-586d-4f4f-b837-eb8b07e733f3"
      },
      "execution_count": null,
      "outputs": [
        {
          "output_type": "stream",
          "name": "stdout",
          "text": [
            "Nilai dari f'(1.2) = 3.320117\n",
            "Nilai perkiraan dari f'(1.2) dengan Richardson extrapolation: 3.337824\n",
            "===========================================================================\n",
            "\n",
            "Orde : 0.0\n",
            "Nilai perkiraan dari f'(1.2) dengan Richardson extrapolation: -inf\n",
            "Error : inf\n",
            "\n",
            "Orde : 1.0\n",
            "Nilai perkiraan dari f'(1.2) dengan Richardson extrapolation: 3.275226\n",
            "Error : 0.044891\n",
            "\n",
            "Orde : 2.0\n",
            "Nilai perkiraan dari f'(1.2) dengan Richardson extrapolation: 3.319939\n",
            "Error : 0.000178\n",
            "\n",
            "Orde : 3.0\n",
            "Nilai perkiraan dari f'(1.2) dengan Richardson extrapolation: 3.332714\n",
            "Error : 0.012597\n",
            "\n",
            "Orde : 4.0\n",
            "Nilai perkiraan dari f'(1.2) dengan Richardson extrapolation: 3.337824\n",
            "Error : 0.017707\n",
            "\n",
            "Orde : 5.0\n",
            "Nilai perkiraan dari f'(1.2) dengan Richardson extrapolation: 3.340132\n",
            "Error : 0.020015\n",
            "\n",
            "Orde : 6.0\n",
            "Nilai perkiraan dari f'(1.2) dengan Richardson extrapolation: 3.341231\n",
            "Error : 0.021114\n",
            "\n",
            "Orde : 7.0\n",
            "Nilai perkiraan dari f'(1.2) dengan Richardson extrapolation: 3.341767\n",
            "Error : 0.021650\n",
            "\n"
          ]
        },
        {
          "output_type": "stream",
          "name": "stderr",
          "text": [
            "<ipython-input-17-4f8f713b421b>:30: RuntimeWarning: divide by zero encountered in double_scalars\n",
            "  f0 = d2h + (d2h - d4h)/(2**k - 1)\n"
          ]
        }
      ]
    }
  ]
}