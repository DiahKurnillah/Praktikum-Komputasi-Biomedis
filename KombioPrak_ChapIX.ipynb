{
  "nbformat": 4,
  "nbformat_minor": 0,
  "metadata": {
    "colab": {
      "provenance": [],
      "authorship_tag": "ABX9TyO58mXEAt/m2C/6mumdLvGh",
      "include_colab_link": true
    },
    "kernelspec": {
      "name": "python3",
      "display_name": "Python 3"
    },
    "language_info": {
      "name": "python"
    }
  },
  "cells": [
    {
      "cell_type": "markdown",
      "metadata": {
        "id": "view-in-github",
        "colab_type": "text"
      },
      "source": [
        "<a href=\"https://colab.research.google.com/github/DiahKurnillah/Praktikum-Komputasi-Biomedis/blob/main/KombioPrak_ChapIX.ipynb\" target=\"_parent\"><img src=\"https://colab.research.google.com/assets/colab-badge.svg\" alt=\"Open In Colab\"/></a>"
      ]
    },
    {
      "cell_type": "markdown",
      "source": [
        "# **Chapter 9. Numerical Integration: Trapezoid & Simpson’s Rule**\n",
        "---\n",
        "**Tujuan**: Untuk menentukan integrasi numerik menggunakan metode Trapezium dan Simpson 1/3\n",
        "\n",
        "**Literarure Review**\n",
        "Perhitungan integrasi analitik dilakukan dengan menggunakan titik-titik diskrit yang dibagi menjadi beberapa bagian yang disebut dengan \"segmen\". Ada beberapa metode yang menggunakan metode segmen, seperti metode trapesium dan metode persegi panjang.\n",
        "\n",
        "Luas dari satu persegi panjang adalah\n",
        "$$\\int_{x_0}^{x_1} f(x) \\,dx \\approx h f(x_0) $$\n",
        "$$\\int_{x_0}^{x_1} f(x) \\,dx \\approx h f(x_1) $$\n",
        "$$\\int_{x_0}^{x_1} f(x) \\,dx \\approx \\frac{h}{2} [f(x_0) + f(x_1)] $$\n",
        "\n",
        "persamaan-persamaan tersebut dapat disederhanakan menjadi\n",
        "$$\\int_a^b f(x) \\,dx \\approx \\frac{h}{2} (f_0 + 2f_1 + 2f_2 + \\ldots + 2f_{n-1} + f_n) = \\frac{h}{2} (f_0 + 2\\sum_{i=1}^{n-1} f_i + f_n)$$\n",
        "\n",
        "Metode trapesium hampir sama dengan metode persegi panjang. Bentuk yang digunakan untuk membagi area di bawah kurva adalah trapesium. Dengan menggunakan metode ini, diharapkan dapat meminimalisir kesalahan yang dihasilkan oleh bentuk persegi panjang pada metode rectangular.\n",
        "\n",
        "$$ \\int_a^b f(x) \\,dx \\approx \\int_{x_0}^{x_1} f(x) \\,dx + \\int_{x_1}^{x_2} f(x) \\,dx + \\ldots + \\int_{x_{n-1}}^{x_n} f(x) \\,dx $$\n",
        "$$ \\approx \\frac{h}{2} [f(x_0) + f(x_1)] + \\frac{h}{2} [f(x_1) + f(x_2)] + \\ldots + \\frac{h}{2} [f(x_{n-1}) + f(x_1)] $$\n",
        "$$\\approx \\frac{h}{2}[f(x_0) + 2f(x_1) + 2f(x_2) + \\ldots + 2f(x_{n-1}) + f(x_n)] $$\n",
        "$$\\approx \\frac{h}{2}(f_0 + 2\\sum_{i=1}^{n-1} f_1 + f_n) $$\n",
        "\n",
        "Selain metode \"segmen\", ada metode lain untuk menghitung integrasi suatu fungsi, seperti metode Newton Cotes. Metode ini menggunakan interpolasi polinomial, seperti metode trapesium, metode Simpson 1/3, dan metode Simpson 3/8.\n",
        "Metode Simpson 1/3 membutuhkan minimal 3 titik untuk menentukan hampiran integrasi suatu fungsi, sebagai contoh (0, f(0)), (h, f(h)), dan (2h, f(2h))\n",
        "\n",
        "$$I_{\\text{tot}} = \\int_a^b f(x) \\,dx \\approx \\int_{x_0}^{x_2} f(x) \\,dx + \\int_{x_2}^{x_4} f(x) \\,dx + \\ldots + \\int_{x_{n-2}}^{x_{2n}} f(x) \\,dx $$\n",
        "$$\\approx \\frac{h}{3}(f_0 + 4\\sum_{i=1,3,5}^{n-1} f_i + 2\\sum_{i=2,4,6}^{n-2} f_i + f_n)$$\n"
      ],
      "metadata": {
        "id": "csl4UjOW4pLl"
      }
    },
    {
      "cell_type": "markdown",
      "source": [
        "# Preliminary Task\n",
        "Jika terdapat fungsi sebagai berikut:\n",
        "$f(x) = x^2 \\cos(x^2), \\quad 1.5 \\leq x \\leq 2.5$\n",
        "dan $( h = 0.1 )$.\n",
        "\n",
        "Hitunglah integrasi berikut dengan menggunakan metode trapezium dan Simpson 1/3:\n",
        "\\$\\int_{0}^{2} f(x) \\,dx$"
      ],
      "metadata": {
        "id": "sQaA8xrS44J3"
      }
    },
    {
      "cell_type": "code",
      "execution_count": null,
      "metadata": {
        "colab": {
          "base_uri": "https://localhost:8080/"
        },
        "id": "s7a6P-YN4j41",
        "outputId": "eef63375-c6ae-4271-f67d-9447234d1ca0"
      },
      "outputs": [
        {
          "output_type": "stream",
          "name": "stdout",
          "text": [
            "Hasil Integrasi (Metode Trapezium): -1.1512833926545998\n",
            "Hasil Integrasi (Metode Simpson 1/3): -1.1591682849187996\n"
          ]
        }
      ],
      "source": [
        "import numpy as np\n",
        "\n",
        "# Fungsi\n",
        "def f(x):\n",
        "    return x**2 * np.cos(x**2)\n",
        "\n",
        "# Batasan\n",
        "a = 0\n",
        "b = 2\n",
        "h = 0.1\n",
        "n = int((b - a) / h)\n",
        "\n",
        "# Metode Trapezium\n",
        "integral_trapezium = h/2 * (f(a) + 2*np.sum(f(np.linspace(a+h, b-h, n-1))) + f(b))\n",
        "\n",
        "# Metode Simpson 1/3\n",
        "integral_simpson13 = h/3 * (f(a) + 4*np.sum(f(np.linspace(a+h, b-h, n//2))) +\n",
        "                            2*np.sum(f(np.linspace(a+2*h, b-2*h, n//2-1))) + f(b))\n",
        "\n",
        "print(\"Hasil Integrasi (Metode Trapezium):\", integral_trapezium)\n",
        "print(\"Hasil Integrasi (Metode Simpson 1/3):\", integral_simpson13)\n"
      ]
    },
    {
      "cell_type": "markdown",
      "source": [
        "Dalam kode di atas, kita mengimplementasikan metode numerik untuk menghitung integral suatu fungsi menggunakan metode trapesium dan metode Simpson 1/3. Kita ingin mengestimasi integral fungsi $f(x)= x^2  cos⁡(x^2 )$   dari 0 hingga 2.\n",
        "Pertama-tama, kita mendefinisikan fungsi f(x) yang akan diintegrasikan. Selanjutnya, kita menentukan batas integral, yaitu a (0) dan b (2), serta lebar langkah h (0.1) dan jumlah langkah n berdasarkan rumus n=(b-a)/h\n",
        "Metode trapesium digunakan untuk menghitung integral. Langkah pertama dalam metode ini adalah menghitung nilai integral pada ujung interval (a dan b) dan kemudian menambahkan dua kali lipat jumlah nilai integral pada titik-titik dalam interval dengan langkah h. Hasil akhirnya dikalikan dengan h/2. Ini menciptakan area segitiga di setiap interval yang, ketika diakumulasikan, memberikan perkiraan integral total.\n",
        "\n",
        "Metode Simpson 1/3 juga digunakan untuk menghitung integral. Pada metode ini, kita membagi interval menjadi segmen-segmen yang lebih kecil dan menggunakan polinomial orde dua (parabola) untuk memperkirakan nilai integral di setiap segmen. Kita kemudian menggabungkan hasilnya dengan bobot khusus, dengan bobot 1 pada ujung interval dan bobot 4 pada titik-titik ganjil di dalam interval, serta bobot 2 pada titik-titik genap di dalam interval.\n",
        "Setelah menghitung integral menggunakan kedua metode, hasilnya dicetak. Metode trapesium memberikan estimasi integral dengan menggunakan trapesium sebagai bentuk pendekatan area di bawah kurva, sementara metode Simpson 1/3 menggunakan pendekatan parabola.\n",
        "\n",
        "Dilakukan pula perhitungan secara analitik, didapat\n",
        "Metode Trapesium\n",
        "$$∫_0^2f(x)dx=\\frac{h}{2}(f_0+2f_1+⋯+2f_19+f_20)$$\n",
        "$$∫_0^2f(x)dx=\\frac{0.1}{2} (-23.0126)$$\n",
        "$$∫_0^2f(x)dx=-1.151$$\n",
        "\n",
        "Metode Simpson 1/3\n",
        "$$∫_0^2f(x)dx=\\frac{h}{3}(f_0+4f_1+2f_2+⋯+2f_18+4f_19+f_20)$$\n",
        "$$∫_0^2f(x)dx=\\frac{0.1}{3} (-34.775)$$\n",
        "$$∫_0^2f(x)dx=-1.159$$\n",
        "Maka, berdasarkan penghitungan, hasil integral kedua metode Trapesium dan simphson 1/3 sama dengan hasil analitik.\n"
      ],
      "metadata": {
        "id": "ST2RA4OtuKhi"
      }
    },
    {
      "cell_type": "markdown",
      "source": [
        "# Task 1\n",
        "Seorang sky-driver jatuh dari pesawat dengan kecepatan seperti\n",
        "yang ditunjukkan pada persamaan di bawah ini.\n",
        "$$v(t) = gm/c(1-e^-(c/m)t$$\n",
        "\n",
        "Hitung seberapa jauh sky diver jatuh setelah 12 detik dengan beberapa\n",
        "metode integrasi numerik dan bandingkan hasil masing-masing metode satu\n",
        "sama lain. Tentukan kesalahan dibandingkan dengan hasil analisis.\n",
        "Metode mana yang paling akurat? Jelaskan!\n",
        "\n",
        "v = kecepatan (m/s)\n",
        "\n",
        "g = percepatan gravitasi = 9,8 m/s2\n",
        "\n",
        "m = massa penyelam langit = 78,5 kg\n",
        "\n",
        "c = koefisien resistif udara = 12,5 kg/s\n"
      ],
      "metadata": {
        "id": "KxOhxAT8PUtz"
      }
    },
    {
      "cell_type": "code",
      "source": [
        "import math\n",
        "\n",
        "def integral(t):\n",
        "    g = 9.8\n",
        "    m = 78.5\n",
        "    c = 12.5\n",
        "    return (g * m / c) * (1 - math.exp(-(c / m) * t))\n",
        "\n",
        "def eksak(t):\n",
        "    return ((61544 * math.exp(-0.159 * t)) / 159) + 61.544 * t\n",
        "\n",
        "a = 0\n",
        "b = 12\n",
        "h = 0.01\n",
        "\n",
        "# Integral Exact\n",
        "exact = eksak(b) - eksak(a)\n",
        "print('Integral Exact: ', exact)\n",
        "print('----------------------------------------------------------')\n",
        "\n",
        "# Metode Trapezoid\n",
        "fa = integral(a)\n",
        "fb = integral(b)\n",
        "jum = 0\n",
        "\n",
        "while a < b - h:\n",
        "    a = a + h\n",
        "    fx = integral(a)\n",
        "    jum = jum + fx\n",
        "\n",
        "hasil_trapezoid = (h / 2) * (fa + 2 * jum + fb)\n",
        "error_trapezoid = math.fabs(hasil_trapezoid - exact)\n",
        "print('Integral Trapezoid: ', hasil_trapezoid)\n",
        "print('Error Trapezoid: ', error_trapezoid)\n",
        "\n",
        "# Metode Simpson 1/3\n",
        "n = 0\n",
        "a = 0\n",
        "genap = 0\n",
        "ganjil = 0\n",
        "\n",
        "while a < b - h:\n",
        "    a = a + h\n",
        "    n = n + 1\n",
        "    m = n % 2\n",
        "    if m == 0:\n",
        "        fx = integral(a)\n",
        "        genap = genap + fx\n",
        "    else:\n",
        "        fx = integral(a)\n",
        "        ganjil = ganjil + fx\n",
        "\n",
        "hasil_simpson = (h / 3) * (fa + (4 * ganjil) + (2 * genap) + fb)\n",
        "error_simpson = math.fabs(hasil_simpson - exact)\n",
        "print('----------------------------------------------------------')\n",
        "print('Integral Simpson 1/3: ', hasil_simpson)\n",
        "print('Error Simpson 1/3: ', error_simpson)\n"
      ],
      "metadata": {
        "colab": {
          "base_uri": "https://localhost:8080/"
        },
        "id": "-lsP0bJ3PyFY",
        "outputId": "7f8a1379-7a27-4eaf-da36-4d9258e00ddd"
      },
      "execution_count": null,
      "outputs": [
        {
          "output_type": "stream",
          "name": "stdout",
          "text": [
            "Integral Exact:  408.8909211970591\n",
            "----------------------------------------------------------\n",
            "Integral Trapezoid:  409.74114536350385\n",
            "Error Trapezoid:  0.8502241664447752\n",
            "----------------------------------------------------------\n",
            "Integral Simpson 1/3:  409.5664213344649\n",
            "Error Simpson 1/3:  0.6755001374058338\n"
          ]
        }
      ]
    },
    {
      "cell_type": "markdown",
      "source": [
        "Berdasarkan hasil yang tertera, dapat diamati bahwa nilai eksak untuk jarak yang ditempuh oleh skydiver setelah terjun selama 12 detik adalah sekitar 408.8909211970591 meter. Saat menggunakan metode trapesium, hasil yang diperoleh sebesar 409.74114536350385 dengan nilai error sekitar 0.8502241664447752. Sementara itu, dengan menerapkan metode Simpson 1/3, diperoleh hasil sekitar 409.5664213344649 dengan nilai error sekitar 0.6755001374058338. Perbandingan antara kedua metode menunjukkan bahwa metode Simpson 1/3 memiliki nilai error yang lebih kecil dibandingkan dengan metode trapesium, menunjukkan bahwa metode Simpson 1/3 lebih akurat dalam pendekatan perhitungan jarak yang ditempuh oleh skydiver selama 12 detik"
      ],
      "metadata": {
        "id": "EsbZXQ6avJO1"
      }
    },
    {
      "cell_type": "markdown",
      "source": [
        "# Task 2\n",
        "**Infus IV**\n",
        "Kantong silinder dengan jari-jari 10 cm dan tinggi 50 cm berisi larutan garam (0,9% NaCl) yang diberikan kepada pasien sebagai infus intravena (IV). Metode yang digunakan untuk memasukkan larutan garam ke dalam aliran darah pasien dalam contoh ini adalah infus gravitasi. Larutan mengalir dari kantong ke bawah di bawah pengaruh gravitasi melalui lubang berjari-jari 1 mm di bagian bawah kantong. Jika satu-satunya hambatan yang ditawarkan oleh sistem aliran adalah hambatan viskositas melalui pipa, tentukan waktu yang diperlukan untuk mengosongkan kantong hingga 90%. Panjang pipa adalah 36 (91,44 cm) dan ID (diameter dalam) adalah 1 mm. Viskositas larutan garam = 0,01 Poise, dan massa jenis = 1 g/cm3.\n",
        "Misalkan L adalah panjang pipa, d diameter pipa, dan R jari-jari kantong silinder. Maka, L = 91,44 cm; d = 0,1 cm; R = 10 cm.\n",
        "\n",
        "**Keseimbangan energi mekanik**\n",
        "\n",
        "Keseimbangan energi mekanik diberikan oleh persamaan Bernoulli yang dikoreksi untuk kehilangan energi mekanik akibat gesekan fluida. Energi mekanik pada tingkat cairan di dalam kantong sama dengan energi mekanik fluida yang mengalir keluar dari tabung dikurangi dengan kehilangan gesekan. Kami mengabaikan kehilangan gesekan akibat kontraksi tiba-tiba dari luas penampang aliran di pintu masuk tabung. Ketinggian di mana cairan infus memasuki pasien dianggap sebagai tingkat datum. Ketinggian cairan di dalam kantong adalah z cm terhadap dasar kantong, dan (z + L) cm terhadap level datum\n",
        "\n",
        "Penurunan tekanan dalam pipa akibat gesekan dinding diberikan oleh persamaan Hagen-Poiseuille:\n",
        "$$∆p=32Luμ/d^2 =2926.08u$$\n",
        "Persamaan Bernoulli untuk sistem ini adalah sebagai berikut:\n",
        "$$g(z+L)=u^2/2+∆p/ρ+32Luμ/(d^2 ρ)$$\n",
        "Di mana Δ𝑝/𝜌 adalah istilah untuk kerugian mekanis akibat gesekan fluida dan memiliki satuan energi per massa. Neraca massa kondisi tunak Tidak ada reaksi, akumulasi, atau penipisan di dalam sistem, dan kami mengabaikan aliran tidak stabil awal saat memulai infus. Laju aliran massa di dalam kantong sama dengan laju aliran massa di dalam pipa:\n",
        "$$-ρπR^2  dz/dt=ρ π/4 d^2 u$$\n",
        "Pada pengaturan ulang, kami mendapatkan\n",
        "$$dt=-(4R^2)/(d^2 u) dz$$\n",
        "Kita dapat mengekspresikan u dalam bentuk z dengan menyelesaikan Persamaan untuk u. Membiarkan$ a = 64Lμ/d2 ρ$\n",
        "$$u=(-a+√(a^2+8g(z+L)))/2$$\n",
        "Mengganti hal di atas ke dalam neraca massa kondisi tunak\n",
        "$$dt=-(8R^2)/((-a+√(a^2+8g(z+L) )) d^2 ) dz$$\n",
        "Mengintegrasikan persamaan diferensial Kita ingin mengintegrasikan z dari 50 cm ke 5 cm. Dengan mengintegrasikan sisi kiri dari 0 ke t, kita memperoleh:\n",
        "$$t=∫_{50}^5-\\frac{8R^2}{(-a+√(a^2+8g(z+L) ) d^2 } dz$$\n",
        "$$=\\frac{8R^2}{d^2}  ∫_{50}^5\\frac{1}{(-a+√(a^2+8g(z+L) ) d^2 } dz$$\n",
        "Pertanyaan: a. Hitunglah waktu yang dibutuhkan infus untuk diganti! (Ketika z = 5 cm). Gunakan semua metode integrasi untuk soal ini!\n"
      ],
      "metadata": {
        "id": "jZHXJ9wYQf11"
      }
    },
    {
      "cell_type": "code",
      "source": [
        "import math\n",
        "\n",
        "def fungsi(z):\n",
        "    return 1 / (-5852.16 + math.sqrt(5852.16**2 + 7848 * (z + 91.44)))\n",
        "\n",
        "def integral(z):\n",
        "    return (5852.16 * math.log(abs(math.sqrt(196200 * z + 25 * (5852.16**2 + 17940528 / 25)) - 5 * 5852.16)) +\n",
        "            math.sqrt(7848 * z + 5852.16**2 + 17940528 / 25)) / 3924\n",
        "\n",
        "a = 5\n",
        "b = 50\n",
        "h = 0.001\n",
        "n = round((b - a) / h)\n",
        "\n",
        "t1 = integral(a)\n",
        "t2 = integral(b)\n",
        "\n",
        "exact = math.fabs(80000 * (t1 - t2))\n",
        "print('Integral exact    = ', exact)\n",
        "print('----------------------------------------------------------')\n",
        "\n",
        "# Metode Trapezoid\n",
        "fa = fungsi(a)\n",
        "fb = fungsi(b)\n",
        "jum = 0\n",
        "\n",
        "while a < (b - h):\n",
        "    a = a + h\n",
        "    fa = fungsi(a)\n",
        "    jum = jum + fa\n",
        "\n",
        "hasil_trapezoid = 80000 * h / 2 * (fa + 2 * jum + fb)\n",
        "error_trapezoid = math.fabs(exact - hasil_trapezoid)\n",
        "\n",
        "print('Integral Trapezoid  = ', hasil_trapezoid)\n",
        "print('Error Trapezoid = ', error_trapezoid)\n",
        "print('----------------------------------------------------------')\n",
        "\n",
        "# Metode Simpson 1/3\n",
        "a = 5\n",
        "fa = fungsi(a)\n",
        "n = 0\n",
        "ganjil = 0\n",
        "genap = 0\n",
        "\n",
        "while a < (b - h):\n",
        "    a = a + h\n",
        "    n = n + 1\n",
        "    if n % 2 != 0:\n",
        "        ganjil = ganjil + fungsi(a)\n",
        "    else:\n",
        "        genap = genap + fungsi(a)\n",
        "\n",
        "hasil_simpson = 80000 * h / 3 * (fa + 4 * ganjil + 2 * genap + fb)\n",
        "error_simpson = math.fabs(exact - hasil_simpson)\n",
        "print('Integral Simpson  = ', hasil_simpson)\n",
        "print('Error Simpson = ', error_simpson)\n"
      ],
      "metadata": {
        "colab": {
          "base_uri": "https://localhost:8080/"
        },
        "id": "i04QbOdsTMeZ",
        "outputId": "c490c097-7148-4ce0-ffff-5dfb767ff8a7"
      },
      "execution_count": null,
      "outputs": [
        {
          "output_type": "stream",
          "name": "stdout",
          "text": [
            "Integral exact    =  45995.85330896104\n",
            "----------------------------------------------------------\n",
            "Integral Trapezoid  =  45996.506817745496\n",
            "Error Trapezoid =  0.6535087844531517\n",
            "----------------------------------------------------------\n",
            "Integral Simpson  =  45996.420188377466\n",
            "Error Simpson =  0.5668794164230349\n"
          ]
        }
      ]
    },
    {
      "cell_type": "markdown",
      "source": [
        "Dari hasil yang diperoleh, dapat disimpulkan bahwa nilai eksak untuk waktu yang dibutuhkan oleh larutan garam dalam kantong infus, mulai dari ketinggian 50 cm hingga mencapai 5 cm, adalah sekitar 45995.85330896104 detik atau setara dengan kurang lebih 13 jam. Ketika menggunakan metode trapesium, hasil perhitungan menunjukkan angka 45996.506817745496 dengan nilai error sebesar 0.6535087844531517. Sementara itu, metode Simpson 1/3 memberikan hasil sekitar 45996.420188377466 dengan nilai error sebesar 0.5668794164230349. Jika dilakukan perbandingan antara kedua metode, terlihat bahwa metode Simpson 1/3 memiliki nilai error yang lebih kecil dibandingkan dengan metode trapesium. Dengan demikian, metode Simpson 1/3 dapat dianggap lebih akurat dalam mencari jawaban untuk permasalahan tugas kedua."
      ],
      "metadata": {
        "id": "w5vgxvNpwt93"
      }
    },
    {
      "cell_type": "markdown",
      "source": [
        "# Task 3\n",
        "**Siklisasi polimer (teori Jacobson- Stockmayer)**\n",
        "Rantai polimer mengambil sampel sejumlah besar orientasi yang berbeda dalam ruang dan waktu. Pergerakan rantai polimer diatur oleh proses stokastik (probabilistik). Terkadang, kedua ujung rantai polimer linier dapat saling mendekat dalam jarak yang reaktif. Jika ikatan terbentuk di antara kedua ujung polimer, reaksi tersebut disebut sebagai siklisasi. Dengan mempelajari probabilitas terjadinya hal ini, seseorang dapat memperkirakan laju di mana rantai linier diubah menjadi rantai melingkar. Pertimbangkan polimer linier dengan N tautan. Probabilitas bahwa kedua ujung rantai berada dalam jarak ikatan b satu sama lain diberikan oleh integral berikut:\n",
        "$$[\\frac{3}{2πNb^2}]^{3⁄2} ∫_0^bexp(\\frac{-3r^2}{2Nb^2} ) 4πr^2 dr$$\n",
        "Jika N = 20 mata rantai dan b = 1, hitunglah probabilitas ujung-ujung rantai berada dalam jarak b satu sama lain. Gunakan aturan trapesium komposit dua segmen dan kemudian aturan trapesium komposit empat segmen. Gunakan kedua pendekatan ini untuk mengekstrapolasi solusi yang lebih akurat dengan menghilangkan suku kesalahan O(h2), di mana h adalah lebar panel.\n",
        "\n"
      ],
      "metadata": {
        "id": "A1G9Z2ApTQHB"
      }
    },
    {
      "cell_type": "code",
      "source": [
        "import math\n",
        "from sympy import *\n",
        "\n",
        "N = 20\n",
        "b = 1\n",
        "a = 0\n",
        "\n",
        "def fungsi(r):\n",
        "    return (3 / (2 * math.pi * N * b**2))**(3 / 2) * exp((-3 * r**2) / (2 * N * b**2)) * 4 * math.pi * r**2\n",
        "\n",
        "def integral(r):\n",
        "    return -0.309019361618552 * r * exp(-3 * r**2 / 40) + 0.103006453872851 * math.sqrt(30) * math.sqrt(\n",
        "        math.pi) * erf(math.sqrt(30) * r / 20)\n",
        "\n",
        "t1 = integral(a)\n",
        "t2 = integral(b)\n",
        "\n",
        "exact = (t2 - t1)\n",
        "print('Integral exact  = ', exact)\n",
        "print('----------------------------------------------------')\n",
        "\n",
        "# Metode Trapezoid\n",
        "fa = fungsi(a)\n",
        "fb = fungsi(b)\n",
        "\n",
        "j = 0\n",
        "n = [2, 4]\n",
        "\n",
        "for i in range(0, len(n)):\n",
        "    a = 0\n",
        "    print('TRAPEZOID', n[i], 'SEGMEN')\n",
        "    h = (b - a) / n[i]\n",
        "    while a < (b - h):\n",
        "        a = a + h\n",
        "        fx = fungsi(a)\n",
        "        j = j + fx\n",
        "        s = (0.5 * h) * (fa + 2 * j + fb)\n",
        "        er = math.fabs(s - exact)\n",
        "\n",
        "    print('Hasil Metode Trapezoid  = ', round(s, 5))\n",
        "    print('Error = ', round(er, 5))\n",
        "    print('Lebar segmen (h)  = ', h)\n",
        "    print('----------------------------------------------------\\n')\n",
        "\n",
        "# Metode Simpson 1/3\n",
        "ganjil = 0\n",
        "genap = 0\n",
        "a = 0\n",
        "h = 0.25\n",
        "n = 0\n",
        "\n",
        "while a < (b - h):\n",
        "    a = a + h\n",
        "    n = n + 1\n",
        "    m = n % 2\n",
        "    if m == 1:\n",
        "        fx = fungsi(a)\n",
        "        ganjil = ganjil + fx\n",
        "    elif m == 0:\n",
        "        fx = fungsi(a)\n",
        "        genap = genap + fx\n",
        "\n",
        "hasil = (h / 3) * (fa + 4 * ganjil + 2 * genap + fb)\n",
        "error = math.fabs(hasil - exact)\n",
        "\n",
        "print('METODE SIMPSON 1/3')\n",
        "print('Hasil Metode Simpson 1/3 = ', round(hasil, 5))\n",
        "print('Error = ', round(error, 5))\n",
        "print('Lebar Segmen (h)  = ', h)\n"
      ],
      "metadata": {
        "colab": {
          "base_uri": "https://localhost:8080/"
        },
        "id": "K4NTKFUcXHTo",
        "outputId": "88085df2-f0d6-40d3-a759-82644ad3d688"
      },
      "execution_count": null,
      "outputs": [
        {
          "output_type": "stream",
          "name": "stdout",
          "text": [
            "Integral exact  =  0.0147739418056433\n",
            "----------------------------------------------------\n",
            "TRAPEZOID 2 SEGMEN\n",
            "Hasil Metode Trapezoid  =  0.01644\n",
            "Error =  0.00166\n",
            "Lebar segmen (h)  =  0.5\n",
            "----------------------------------------------------\n",
            "\n",
            "TRAPEZOID 4 SEGMEN\n",
            "Hasil Metode Trapezoid  =  0.01803\n",
            "Error =  0.00326\n",
            "Lebar segmen (h)  =  0.25\n",
            "----------------------------------------------------\n",
            "\n",
            "METODE SIMPSON 1/3\n",
            "Hasil Metode Simpson 1/3 =  0.01477\n",
            "Error =  0.0\n",
            "Lebar Segmen (h)  =  0.25\n"
          ]
        }
      ]
    },
    {
      "cell_type": "markdown",
      "source": [
        "Berdasarkan hasil yang diperoleh, terlihat bahwa nilai eksak untuk menghitung peluang ujung rantai berada dalam jarak b = 1  satu sama lain, dengan jumlah mata rantai  N  sebanyak 20, adalah  r = 0.0147739418056433 . Selanjutnya, pendekatan dengan metode trapesium 2 segmen menghasilkan nilai  r = 0.01644  dengan nilai error sebesar 0.00166. Sementara itu, metode trapesium 4 segmen menghasilkan nilai  r = 0.01803  dengan nilai error 0.00326. Metode simpson 1/3 menunjukkan hasil  r = 0.01477  dengan nilai error 0.0.\n",
        "Dalam metode trapesium, terlihat bahwa peningkatan jumlah segmen akan menyebabkan nilai  h  menjadi semakin kecil, menghasilkan error yang semakin kecil pula. Hasil yang diperoleh dari trapesium 4 segmen lebih baik dibandingkan dengan trapesium 2 segmen. Jika kedua metode dibandingkan, terlihat bahwa nilai error untuk metode simpson 1/3 lebih kecil dibandingkan dengan metode trapesium, menunjukkan bahwa metode simpson 1/3 lebih akurat dalam mencari jawaban untuk permasalahan yang diuraikan dalam tugas 3.\n"
      ],
      "metadata": {
        "id": "IzizY2u0xYci"
      }
    }
  ]
}