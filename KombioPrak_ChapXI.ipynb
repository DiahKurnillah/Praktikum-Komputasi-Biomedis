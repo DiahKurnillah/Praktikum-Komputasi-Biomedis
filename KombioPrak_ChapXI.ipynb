{
  "nbformat": 4,
  "nbformat_minor": 0,
  "metadata": {
    "colab": {
      "provenance": [],
      "authorship_tag": "ABX9TyP7D7zhs4laoBMKsJ32Vq0/",
      "include_colab_link": true
    },
    "kernelspec": {
      "name": "python3",
      "display_name": "Python 3"
    },
    "language_info": {
      "name": "python"
    }
  },
  "cells": [
    {
      "cell_type": "markdown",
      "metadata": {
        "id": "view-in-github",
        "colab_type": "text"
      },
      "source": [
        "<a href=\"https://colab.research.google.com/github/DiahKurnillah/Praktikum-Komputasi-Biomedis/blob/main/KombioPrak_ChapXI.ipynb\" target=\"_parent\"><img src=\"https://colab.research.google.com/assets/colab-badge.svg\" alt=\"Open In Colab\"/></a>"
      ]
    },
    {
      "cell_type": "markdown",
      "source": [
        "# **Chapter 11. Richardson Extrapolation: Integration**\n",
        "---\n",
        "**Tujuan:** Untuk menentukan integrasi numerik menggunakan ekstrapolasi Richardson dan mengetahui kelebihan dan kekurangannya dibandingkan dengan metode integrasi numerik lainnya.\n",
        "\n",
        "**Literature Review**\n",
        "\n",
        "Ekstrapolasi Richardson juga dapat diterapkan dalam integrasi numerik untuk mendapatkan solusi yang lebih akurat. Ingat kembali aturan Trapesium:\n",
        "$$∫_a^bf(x) dx=\\frac{h}{2} (f_0+2∑_{i=1}^nf_i +f_n )-\\frac  {(b-a) f'' (t)}{12} h^2$$\n",
        "Yang mana persamaan tersebut dapat ditulis menjadi:\n",
        "$$∫_a^bf(x) dx=I(h)+Ch^2$$\n",
        "di mana I(h) adalah hasil integrasi menggunakan aturan trapesium dengan $$C=\\frac{(b-a)f''(t)}{12}$$.\n",
        "Secara umum, metode integrasi dapat ditulis sebagai\n",
        "$$∫_a^bf(x) dx=I(h)+Ch^q$$\n",
        "Jika diasumsikan bahwa 𝐶 konstan terlepas dari ukuran langkah h, maka q ditentukan dari orde kesalahan metode integrasi. Sebagai contoh:\n",
        "Metode trapesium memiliki orde kesalahan $O(h^2)$, sehingga q adalah 2\n",
        "Metode titik tengah memiliki orde kesalahan $O(h^2)$, sehingga q adalah 2\n",
        "Metode Simpson 1/3 memiliki orde kesalahan $O(h^4)$, sehingga q adalah 4\n",
        "Teknik ekstrapolasi Richardson memungkinkan untuk menggabungkan hasil numerik dari metode integrasi untuk dua ukuran langkah yang berbeda, h1 dan h2, untuk mendapatkan hasil numerik ketiga, $I3 = f (I1, I2)$. Teknik ekstrapolasi jauh lebih akurat dibandingkan dengan dua pendekatan I1 dan I2. Aproksimasi integral orde tinggi I3 diperoleh dengan menggabungkan dua aproksimasi dengan akurasi rendah dari aturan trapesium sehingga memiliki orde kesalahan $O(h^4)$. Dengan demikian, kita dapat mengurangi kesalahan secara efisien dalam satu langkah dengan menggunakan ekstrapolasi Richardson.\n",
        "\n",
        "Misalkan aturan trapesium digunakan untuk menyelesaikan sebuah integral pada interval [a, b]. Jika J adalah nilai pendekatan yang lebih baik dari integral, I(h) adalah pendekatan dari segmen-n dari aturan trapesium dengan ukuran langkah $h1 = h$ dan $h2 = 2h$, dan kesalahan adalah C(h), maka integrasi numeriknya adalah:\n",
        "$$J=I(h)+C(h^q)$$\n",
        "$$J=I(2h)+C(2h^q)$$\n",
        "Hilangkan C dari kedua persamaan:\n",
        "$$I(h)+C(h^q )=I(2h)+C(2h^q)$$\n",
        "Dengan demikian, kami memperoleh:\n",
        "$$C=\\frac{I(h)-I(2h)}{(2^q-1) h^q }$$\n",
        "Jika kita mengganti rumus sebelumnya, rumus ekstrapolasi Richardson menjadi\n",
        "$$J=I(h)+\\frac{I(h)-I(2h)}{(2^q-1) }$$\n",
        "Ketika teknik ekstrapolasi Richardson diterapkan pada integrasi numerik secara berulang-ulang untuk meningkatkan akurasi dari setiap lapisan aproksimasi yang berurutan, skema ini disebut integrasi Romberg.\n",
        "Integrasi Romberg merupakan pengembangan dari ekstrapolasi Richardson yang dikombinasikan dengan metode Trapesium untuk mendapatkan hasil integrasi yang lebih baik. Pada setiap penerapan Richardson akan meningkatkan orde kesalahan pada solusi sebanyak dua:\n",
        "$$O(h^2N)→O(h^(2N+2))$$\n",
        "Ingat kembali ekstrapolasi Richardson, jika I adalah nilai eksak dari integral maka dapat dituliskan sebagai:\n",
        "$$I=A_k+Ch^2+Dh^4+Eh^6+⋯$$\n",
        "Ak adalah nilai perkiraan integral menggunakan metode Trapesium dengan jumlah segmen $n = 2^k$ dan orde kesalahan $O(h2)$.\n",
        "A0, A1, ... Ak dari ekstrapolasi Richardson kemudian akan digunakan untuk menentukan urutan Bk, yaitu:\n",
        "$$B_k=A_k+\\frac{A_k-A_{k-1}}{2^2-1}$$\n",
        "Jadi, mulai sekarang, I yang lebih baik adalah $𝐼 = 𝐵𝑘 + 𝐷′ℎ4 + 𝐸′ℎ6 + ⋯$ orde kesalahan $O(h^4 )$.\n",
        "Selanjutnya, B0, B1, ... Bk akan digunakan untuk mendapatkan urutan C0, C1, ... Ck\n",
        "$$C_k=B_k+\\frac{B_k-B_{k-1}}{2^4-1}$$\n",
        "Proses ini akan terus berlanjut hingga segmen ke-n $(n = 2^k)$ terpenuhi, dengan demikian orde kesalahan $O(h)$ dan lapisan ekstrapolasi Richardson (A, B, C, ... , k+1) akan meningkat bergantung pada k.\n"
      ],
      "metadata": {
        "id": "Uyg2WwzuTH4Q"
      }
    },
    {
      "cell_type": "markdown",
      "source": [
        "# Preliminary Task\n",
        "Hitung hasil dari $∫1/1+𝑥𝑑𝑥, 0<x<1$ dengan menggunakan ekstrapolasi Richardson dan integrasi Romberg. (total segmen adalah 8)"
      ],
      "metadata": {
        "id": "7lZVnLaKTf_w"
      }
    },
    {
      "cell_type": "code",
      "execution_count": null,
      "metadata": {
        "id": "LI_vodCuYwCR",
        "colab": {
          "base_uri": "https://localhost:8080/"
        },
        "outputId": "48775dba-bc8f-4f26-e0c1-0af2651ad833"
      },
      "outputs": [
        {
          "output_type": "stream",
          "name": "stdout",
          "text": [
            "Hasil integrasi dengan ekstrapolasi Richardson: 0.250238\n",
            "Hasil integrasi dengan integrasi Romberg: 3.139329\n"
          ]
        }
      ],
      "source": [
        "import numpy as np\n",
        "\n",
        "# Fungsi integrand\n",
        "def f(x):\n",
        "    return 1 / (1 + x)\n",
        "\n",
        "# Ekstrapolasi Richardson\n",
        "def richardson_extrapolation(f, a, b, n, k):\n",
        "    h = (b - a) / n\n",
        "    integral_h = 0\n",
        "    integral_2h = 0\n",
        "\n",
        "    for i in range(1, n, 2):\n",
        "        integral_h += f(a + i * h)\n",
        "\n",
        "    integral_h *= h\n",
        "\n",
        "    for i in range(1, n * 2, 2):\n",
        "        integral_2h += f(a + i * h)\n",
        "\n",
        "    integral_2h *= h / 2\n",
        "\n",
        "    return (4 * integral_2h - integral_h) / 3\n",
        "\n",
        "# Integrasi Romberg\n",
        "def romberg_integration(f, a, b, n):\n",
        "    h = (b - a) / n\n",
        "    integral_matrix = np.zeros((n + 1, n + 1))\n",
        "\n",
        "    for i in range(n + 1):\n",
        "        integral_matrix[i, 0] = 0.5 * h * (f(a) + f(b))\n",
        "\n",
        "    for k in range(1, n + 1):\n",
        "        sum_term = 0\n",
        "        for i in range(1, 2 ** (k - 1) + 1):\n",
        "            sum_term += f(a + (2 * i - 1) * h)\n",
        "\n",
        "        integral_matrix[0, k] = 0.5 * integral_matrix[0, k - 1] + h * sum_term\n",
        "\n",
        "        for j in range(1, k + 1):\n",
        "            integral_matrix[j, k] = (4 ** j * integral_matrix[j - 1, k] - integral_matrix[j - 1, k - 1]) / (4 ** j - 1)\n",
        "\n",
        "    return integral_matrix[n, n]\n",
        "\n",
        "# Hitung integral menggunakan ekstrapolasi Richardson\n",
        "n_extrapolation = 8\n",
        "result_extrapolation = richardson_extrapolation(f, 0, 1, n_extrapolation, 1)\n",
        "print(f\"Hasil integrasi dengan ekstrapolasi Richardson: {result_extrapolation:.6f}\")\n",
        "\n",
        "# Hitung integral menggunakan integrasi Romberg\n",
        "n_romberg = 8\n",
        "result_romberg = romberg_integration(f, 0, 1, n_romberg)\n",
        "print(f\"Hasil integrasi dengan integrasi Romberg: {result_romberg:.6f}\")\n"
      ]
    },
    {
      "cell_type": "markdown",
      "source": [
        "# Task 1\n",
        "Dengan menggunakan masalah yang sama seperti pada Bab 9, sebuah kantong silinder dengan jari-jari 10 cm dan tinggi 50 cm berisi larutan garam (0,9% NaCl) yang diberikan kepada pasien dalam bentuk infus intravena (IV). Metode yang digunakan untuk memasukkan larutan garam ke dalam aliran darah pasien dalam contoh ini adalah infus gravitasi. Larutan mengalir dari kantong ke bawah di bawah pengaruh gravitasi melalui lubang berjari-jari 1 mm di bagian bawah kantong. Jika satu-satunya hambatan yang ditawarkan oleh sistem aliran adalah hambatan viskos yang melewati pipa, tentukan waktu yang diperlukan agar kantong mengosong hingga 90%. Panjang pipa adalah 36 (91,44 cm) dan ID (diameter dalam) adalah 1 mm. Viskositas larutan garam µ = 0,01 Poise, dan massa jenis ρ = 1 g/cm3. Misalkan L adalah panjang pipa, d diameter pipa, dan R jari-jari kantong silinder. Maka, L =91,44 cm; d =0,1 cm; R =10 cm. (g = 981 cm2/s).\n",
        "\n",
        "Gunakan integrasi Romberg empat tingkat (lapisan k =3, n-segmen = 2³ = 8) dan bandingkan kesalahannya dengan metode Trapesium sebelumnya! (Petunjuk: Nilai eksak dari integral = 0.574948166362027).\n"
      ],
      "metadata": {
        "id": "EndYAYylcdIT"
      }
    },
    {
      "cell_type": "code",
      "source": [
        "import math\n",
        "import numpy\n",
        "\n",
        "# Hasil Integrasi Eksak\n",
        "exact = 0.574948166362027\n",
        "print('Hasil Integral Eksak = ', exact)\n",
        "print('======================================================')\n",
        "\n",
        "def fungsi(x):\n",
        "    return 1 / math.cos(x)\n",
        "\n",
        "a = 0\n",
        "b = 1\n",
        "\n",
        "# Metode Trapezoid\n",
        "def trapezoid(h):\n",
        "    global a, b\n",
        "    c, d = a, b\n",
        "    jum = 0\n",
        "    while c < d - h:\n",
        "        c = c + h\n",
        "        jum = jum + fungsi(c)\n",
        "    fa = fungsi(a)\n",
        "    fb = fungsi(b)\n",
        "    return ((h / 2) * (fb + (2 * jum) + fa))\n",
        "\n",
        "h_trapezoid = 0.005\n",
        "p = trapezoid(h_trapezoid)\n",
        "print('METODE TRAPEZOID')\n",
        "print('\\nHasil Integral  = ', p)\n",
        "print('Error = ', math.fabs(exact - p))\n",
        "print('======================================================')\n",
        "\n",
        "# Metode Ekstrapolasi Richardson\n",
        "def richardson(h):\n",
        "    Ih = trapezoid(h)\n",
        "    I2h = trapezoid((2 * h))\n",
        "    richardson = (Ih + ((Ih - I2h) / (2 ** 2 - 1)))\n",
        "    return richardson\n",
        "\n",
        "h_richardson = (b - a) / 2\n",
        "q = richardson(h_richardson)\n",
        "print('METODE EKSTRAPOLASI RICHARDSON')\n",
        "print('\\nHasil Integral = ', q)\n",
        "print('Error = ', math.fabs(exact - q))\n",
        "print('======================================================')\n",
        "\n",
        "# Metode Romberg\n",
        "k = 3\n",
        "arr = numpy.zeros([k + 1, k + 1])\n",
        "\n",
        "for i in range(0, k + 1):\n",
        "    n = 2 ** i\n",
        "    h = (b - a) / n\n",
        "    arr[i][0] = trapezoid(h)\n",
        "\n",
        "q = 0\n",
        "for i in range(1, k + 1):\n",
        "    q += 2\n",
        "    for j in range(i, k + 1):\n",
        "        arr[j][i] = (arr[j][i - 1] + ((arr[j][i - 1] - arr[j - 1][i - 1]) / (2 ** q - 1)))\n",
        "\n",
        "error = math.fabs(exact - arr[k][k])\n",
        "print('METODE ROMBERG')\n",
        "print('\\n Array: \\n', arr, '\\n')\n",
        "print('Hasil Integral  = ', arr[k][k])\n",
        "print('Error = ', error)\n"
      ],
      "metadata": {
        "colab": {
          "base_uri": "https://localhost:8080/"
        },
        "id": "IkCxUmwmdc_I",
        "outputId": "cccfaa3b-9557-49b7-ab37-e5b1ad041b60"
      },
      "execution_count": null,
      "outputs": [
        {
          "output_type": "stream",
          "name": "stdout",
          "text": [
            "Hasil Integral Eksak =  0.574948166362027\n",
            "======================================================\n",
            "METODE TRAPEZOID\n",
            "\n",
            "Hasil Integral  =  1.2261971759902108\n",
            "Error =  0.6512490096281839\n",
            "======================================================\n",
            "METODE EKSTRAPOLASI RICHARDSON\n",
            "\n",
            "Hasil Integral =  1.2347985711631868\n",
            "Error =  0.6598504048011599\n",
            "======================================================\n",
            "METODE ROMBERG\n",
            "\n",
            " Array: \n",
            " [[1.42540786 0.         0.         0.        ]\n",
            " [1.28245089 1.23479857 0.         0.        ]\n",
            " [1.24092198 1.22707901 1.22656438 0.        ]\n",
            " [1.2299257  1.22626027 1.22620569 1.22619999]] \n",
            "\n",
            "Hasil Integral  =  1.2261999947050666\n",
            "Error =  0.6512518283430396\n"
          ]
        }
      ]
    }
  ]
}