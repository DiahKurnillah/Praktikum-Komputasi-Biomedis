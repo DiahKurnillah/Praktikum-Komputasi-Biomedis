{
  "nbformat": 4,
  "nbformat_minor": 0,
  "metadata": {
    "colab": {
      "provenance": [],
      "authorship_tag": "ABX9TyPQqDo4IV5Q1dx+wJ44inBA",
      "include_colab_link": true
    },
    "kernelspec": {
      "name": "python3",
      "display_name": "Python 3"
    },
    "language_info": {
      "name": "python"
    }
  },
  "cells": [
    {
      "cell_type": "markdown",
      "metadata": {
        "id": "view-in-github",
        "colab_type": "text"
      },
      "source": [
        "<a href=\"https://colab.research.google.com/github/DiahKurnillah/Praktikum-Komputasi-Biomedis/blob/main/KombioPrak_ChapXIII.ipynb\" target=\"_parent\"><img src=\"https://colab.research.google.com/assets/colab-badge.svg\" alt=\"Open In Colab\"/></a>"
      ]
    },
    {
      "cell_type": "markdown",
      "source": [
        "# **Chapter 13. ODE: Runge-Kutta’s Method**\n",
        "---\n",
        "**Tujuan:** Untuk menentukan solusi persamaan diferensial biasa dengan menggunakan metode Runge-Kutta\n",
        "serta mengetahui kelebihan dan kekurangannya dibandingkan dengan metode-metode sebelumnya.\n",
        "\n",
        "**Literature Review**\n",
        "\n",
        "Metode Euler berakhir dengan hasil yang tidak menyeluruh. Karena itu, kita perlu mempertimbangkan orde yang lebih tinggi dari deret Taylor atau dengan menggunakan interval atau Δx yang kecil. menguntungkan. Perhitungan orde yang lebih tinggi membutuhkan turunan yang lebih tinggi dari suatu fungsi sedangkan penggunaan interval kecil membutuhkan waktu komputasi yang lebih lama. Metode Runge-Kutta memberikan hasil yang lebih tepat dan tidak memerlukan turunan dari fungsi. Bentuk umum dari metode Runge-Kutta ditunjukkan pada persamaan\n",
        "$$y_{i+1}=y_i+Φ(x_i,y_i,Δx)Δx……(1)$$\n",
        "\n",
        "Di mana $Φ(x_i,y_i,Δx)$ adalah fungsi penambahan yang merupakan kemiringan rata-rata dalam interval. Fungsi penjumlahan Fungsi penjumlahan dapat ditulis sebagai bentuk umum yang ditunjukkan pada persamaan\n",
        "$$Φ=a_1 k_1+a_2 k_2+⋯+a_n k_n……(2)$$\n",
        "Dimana a adalah konstanta dan k didefinisikan dalam persamaan\n",
        "$$k1=f(x_i,y_i )……(3)$$\n",
        "$$k2=f(x_i+p_1 Δx,y_i+q_{11} k_1 Δx)……(4)$$\n",
        "$$k3=f(x_i+p_2 Δx,y_i+q_{21} k_1 Δx+q_{22} k_2 Δx)……(5)$$\n",
        "$$⋮$$\n",
        "$$kn=f(x_i+p_{n-1} Δx,y_i+q_{n-1,1} k_1 Δx+q_{n-1,2} k_2 Δx+⋯+q_{n-1,n-1} k_{n-1} Δx)……(6)$$\n",
        "Persamaan tersebut menunjukkan bahwa nilai k memiliki hubungan yang berurutan. Nilai k1 muncul muncul pada persamaan untuk menghitung k2 yang juga muncul pada persamaan untuk menghitung k3 dan seterusnya. Hubungan yang berurutan ini membuat metode RungeKutta menjadi efisien dalam dalam proses perhitungan. Terdapat beberapa jenis metode Runge-Kutta yang bergantung pada nilai n yang digunakan yang digunakan dalam persamaan. Untuk n = 1, yang disebut Runge-Kutta orde satu, Persamaan menjadi\n",
        "$$Φ=a_1 k_1=a_1 f(x_i,y_i )……(7)$$\n",
        "Untuk a1 = 1, persamaan menjadi\n",
        "$$y_{i+1}=y_i+f(x_i,y_i )Δx……(8)$$\n",
        "Hal ini mirip dengan metode Euler. Pada metode Runge-Kutta, setelah nilai n ditentukan, nilai a, p, dan q dihitung dengan menggunakan Persamaan deret Taylor.\n",
        "\n",
        "**Metode Runge-Kutta Orde Dua**\n",
        "\n",
        "Metode Runge-Kutta orde dua memiliki bentuk yang ditunjukkan pada Persamaan\n",
        "$$y_{i+1}=y_i+(a_1 k_1+a_2 k_2 )Δx……(9)$$\n",
        "Dimana\n",
        "$$k_1=f(x_i,y_i )……(10)$$\n",
        "$$k_2=f(x_i+p_1 Δx,y_i+q_{11} k_1 Δx)……(11)$$\n",
        "Nilai a1, a2, p1 dan q11 dievaluasi dengan menyamakan Persamaan diatas dengan deret Taylor orde dua yang memiliki bentuk seperti yang ditunjukkan pada Persamaan\n",
        "$$y_{i+1}=y_i+f(x_i,y_i ) \\frac {Δx}{1}+f' (x_i,y_i)\\frac{Δx}{2}……(12)$$\n",
        "di mana f'(xi, yi) dapat didefinisikan dari aturan rantai seperti yang ditunjukkan pada Persamaan (13).\n",
        "$$f'(x_i,y_i ) =\\frac{∂f}{∂x}+\\frac{∂f}{∂x}  \\frac{dy}{dx}……(13)$$\n",
        "Substitusi Persamaan (13) ke Persamaan (12) menghasilkan Persamaan (14).\n",
        "$$y_{i+1}=y_i+f(x_i,y_i )  \\frac{Δx}{1}+(\\frac{∂f}{∂x}+\\frac{∂f}{∂y}\\frac {dy}{dx}) \\frac {Δx}{2}……(14)$$\n",
        "Nilai a1, a2, p1 dan q11 dicari agar Persamaan (9) ekuivalen dengan Persamaan (14). Dengan demikian, deret Taylor digunakan untuk mengeksplorasi Persamaan (11). Deret Taylor sebagai fungsi dari dua variabel memiliki bentuk persamaan seperti di bawah ini.\n",
        "$$g(x+r,y+s)=g(x,y)+r \\frac{∂g}{∂x}+s \\frac{∂g}{∂y}+⋯,……(15)$$\n",
        "Persamaan (11) dapat ditulis ulang sebagai berikut.\n",
        "$$f(x_i+p_1 Δx,y_i+q_{11} k_1 Δx)=f(x_i,y_i )+p_1 Δx \\frac{∂f}{∂x}+q_{11} k_1 Δx  \\frac{∂f}{∂x}+O(Δx^2 )……(16)$$\n",
        "Bentuk sebelumnya dan Persamaan (10) disubstitusikan ke Persamaan (9) dan menghasilkan Persamaan di bawah ini.\n",
        "$$y_{i+1}=y_i+a_1 Δxf(x_i,y_i )+a_2 Δxf(x_i,y_i )+a_2 p_1 Δx^2  \\frac{∂f}{∂x}+a_2 q_{11} Δx^2 f(x_i,y_i )   \\frac{∂f}{∂x}+O(Δx^3 )……(17)$$\n",
        "atau\n",
        "$$y_{i+1}=y_i+[a_1 f(x_i,y_i )+a_2 f(x_i,y_i )]Δx+[a_2 p_1  \\frac{∂f}{∂x}+a_2 q_11 f(x_i,y_i )  \\frac{∂f}{∂x}]Δx^2+O(Δx^3 )……(18)$$\n",
        "\n",
        "Dengan membandingkan Persamaan (14) dan Persamaan (15), dapat disimpulkan bahwa kedua persamaan tersebut akan sama jika:\n",
        "$$a_1+a_2=1……(19)$$\n",
        "$$a_2 p_1=\\frac{1}{2}2……(20)$$\n",
        "$$a_2 p_{11}=\\frac{1}{2}……(21)$$\n",
        "Sistem persamaan di atas yang memiliki 3 persamaan dengan empat variabel yang tidak diketahui tidak dapat diselesaikan. Oleh karena itu, salah satu variabel yang tidak diketahui harus didefinisikan dan tiga variabel lainnya dapat dihitung. Jika a2 dinyatakan, maka Persamaan (9a), (9b), dan (9c) dapat diselesaikan dan menghasilkan:\n",
        "$$a_1=1-a_2……(22)$$\n",
        "$$p_1=q_{11}=\\frac{1}{2a_2}……(23)$$\n",
        "Karena nilai a2 dipilih secara acak, maka metode Runge-Kutta orde dua akan sangat banyak. Salah satunya adalah metode Heun.\n",
        "\n",
        "**Metode Runge-Kutta Orde Empat**\n",
        "\n",
        "Metode Runge-Kutta orde empat diturunkan dengan menggunakan metode yang sama dengan metode Runge-Kutta orde dua dengan n = 3. Hasilnya adalah enam persamaan dengan delapan variabel yang tidak diketahui. Dengan demikian, dua variabel harus didefinisikan terlebih dahulu untuk mendapatkan enam variabel yang tidak diketahui. Hasil umumnya ditunjukkan pada Persamaan (24).\n",
        "$$y_{i+1}=y_i+\\frac{1}{6} (k_1+2k_2+2k_3+k_4 )……(24)$$\n",
        "Dimana\n",
        "$$k_1=Δx.f(x_i,y_i )……(25)$$\n",
        "$$k_2=Δx.f(x_i+\\frac{1}{2} Δx,y_i+\\frac{1}{2} k_1 Δx)……(26)$$\n",
        "$$k_2=Δx.f(x_i+\\frac{1}{2} Δx,y_i+\\frac{1}{2} k_2 Δx)……(27)$$\n",
        "$$k_4=Δx.f(x_i+Δx,y_i+k_3 Δx)……(28)$$\n"
      ],
      "metadata": {
        "id": "zeRIv0awdwbk"
      }
    },
    {
      "cell_type": "markdown",
      "source": [
        "# Preliminary Task\n",
        "Selesaikan persamaan berikut ini dengan menggunakan metode Runge-Kutta orde tiga.\n",
        "$dy/dx = -2x^3 + 12x^2 -20x +8.5$\n",
        "dari x = 0 sampai x = 4 dengan menggunakan interval $Δ{x} = 0.5$ Kondisi awal pada x = 0 adalah y = 1."
      ],
      "metadata": {
        "id": "sXDz-a19eDs9"
      }
    },
    {
      "cell_type": "code",
      "execution_count": null,
      "metadata": {
        "colab": {
          "base_uri": "https://localhost:8080/"
        },
        "id": "fq0UAvbrdrhM",
        "outputId": "a7c2a76e-1177-44d3-c583-44e3a5f27c14"
      },
      "outputs": [
        {
          "output_type": "stream",
          "name": "stdout",
          "text": [
            "x = 0, y = 1\n",
            "x = 0.5, y = 3.21875\n",
            "x = 1.0, y = 3.0\n",
            "x = 1.5, y = 2.21875\n",
            "x = 2.0, y = 2.0\n",
            "x = 2.5, y = 2.71875\n",
            "x = 3.0, y = 4.0\n",
            "x = 3.5, y = 4.71875\n",
            "x = 4.0, y = 3.0\n"
          ]
        }
      ],
      "source": [
        "def f(x, y):\n",
        "    return -2 * x**3 + 12 * x**2 - 20 * x + 8.5\n",
        "\n",
        "def runge_kutta_third_order(x0, y0, h, x_target):\n",
        "    x_values = [x0]\n",
        "    y_values = [y0]\n",
        "\n",
        "    while x_values[-1] < x_target:\n",
        "        x_n = x_values[-1]\n",
        "        y_n = y_values[-1]\n",
        "\n",
        "        k1 = h * f(x_n, y_n)\n",
        "        k2 = h * f(x_n + h/2, y_n + k1/2)\n",
        "        k3 = h * f(x_n + h, y_n - k1 + 2*k2)\n",
        "\n",
        "        y_n1 = y_n + (1/6) * (k1 + 4*k2 + k3)\n",
        "        x_values.append(x_n + h)\n",
        "        y_values.append(y_n1)\n",
        "\n",
        "    return x_values, y_values\n",
        "\n",
        "# Kondisi awal\n",
        "x0 = 0\n",
        "y0 = 1\n",
        "# Interval\n",
        "h = 0.5\n",
        "# Batas atas\n",
        "x_target = 4\n",
        "\n",
        "x_result, y_result = runge_kutta_third_order(x0, y0, h, x_target)\n",
        "\n",
        "for x, y in zip(x_result, y_result):\n",
        "    print(f\"x = {x}, y = {y}\")\n"
      ]
    },
    {
      "cell_type": "markdown",
      "source": [
        "# Task 1\n",
        "Dengan menggunakan soal yang sama seperti yang ditunjukkan pada Chapter 12, hitunglah beban (q) pada t=2 dengan menggunakan metode Runge-Kutta orde empat dan plotlah kurva proses pembebanan (charging) terhadap t antara t = 0s dan t = 2s. Bandingkan hasilnya!"
      ],
      "metadata": {
        "id": "phJnldMof30B"
      }
    },
    {
      "cell_type": "code",
      "source": [
        "import math\n",
        "from prettytable import PrettyTable\n",
        "import matplotlib.pyplot as plt\n",
        "\n",
        "Tabel = PrettyTable(['t (s)', 'q Runge-Kutta (C)', 'q Exact (C)', 'Error'])\n",
        "\n",
        "epsilon = 12\n",
        "C = 5e-6\n",
        "R = 8e5\n",
        "\n",
        "def runge_kutta(t, q):\n",
        "    return (epsilon/R) - (q/(R*C))\n",
        "\n",
        "def exact_solution(t):\n",
        "    return (C*epsilon) * (1 - math.exp(-t/(R*C)))\n",
        "\n",
        "a = 0\n",
        "b = 2\n",
        "h = 0.1\n",
        "N = round((b-a)/h)\n",
        "x = 0.0\n",
        "y = 0.0\n",
        "ti = []\n",
        "qi = []\n",
        "ei = []\n",
        "\n",
        "for i in range(0, N):\n",
        "    k1 = h * runge_kutta(x, y)\n",
        "    k2 = h * runge_kutta(x + (h/2), y + (k1/2))\n",
        "    k3 = h * runge_kutta(x + (h/2), y + (k2/2))\n",
        "    k4 = h * runge_kutta(x + h, y + k3)\n",
        "    y += ((k1 + 2*k2 + 2*k3 + k4) / 6)\n",
        "    e = exact_solution(x + h)\n",
        "    error = abs(y - e)\n",
        "    x += h\n",
        "    ti.append(x)\n",
        "    qi.append(y)\n",
        "    ei.append(e)\n",
        "    Tabel.add_row([round(x, 2), '{:.15e}'.format(y), '{:.15e}'.format(e), '{:.15e}'.format(error)])\n",
        "\n",
        "# Menampilkan tabel\n",
        "print('TABEL PERBANDINGAN NILAI q')\n",
        "print(Tabel)\n",
        "\n",
        "# Menampilkan nilai q saat t=2s\n",
        "print('NILAI q SAAT t = 2s')\n",
        "print('q Runge-Kutta orde 4\\t=', '{:.15e}'.format(y))\n",
        "print('q eksak = ', '{:.15e}'.format(e))\n",
        "print('Error  =', '{:.15e}'.format(error))\n",
        "\n",
        "\n",
        "# Menampilkan plot\n",
        "plt.xlabel('waktu (s)')\n",
        "plt.ylabel('muatan (C)')\n",
        "plt.plot(ti, qi, 'bo', label='q Runge-Kutta')\n",
        "plt.plot(ti, ei, 'k-', label='q Eksak')\n",
        "plt.legend()\n",
        "plt.show()\n"
      ],
      "metadata": {
        "colab": {
          "base_uri": "https://localhost:8080/",
          "height": 969
        },
        "id": "jWxEaiF-isW6",
        "outputId": "7191e96f-a02d-40f4-898a-ddc25d229a90"
      },
      "execution_count": null,
      "outputs": [
        {
          "output_type": "stream",
          "name": "stdout",
          "text": [
            "TABEL PERBANDINGAN NILAI q\n",
            "+-------+-----------------------+-----------------------+-----------------------+\n",
            "| t (s) |   q Runge-Kutta (C)   |      q Exact (C)      |         Error         |\n",
            "+-------+-----------------------+-----------------------+-----------------------+\n",
            "|  0.1  | 1.481405273437500e-06 | 1.481405278300043e-06 | 4.862543193819686e-15 |\n",
            "|  0.2  | 2.926234520472193e-06 | 2.926234529957159e-06 | 9.484966523136407e-15 |\n",
            "|  0.3  | 4.335390806410653e-06 | 4.335390820286829e-06 | 1.387617590411583e-14 |\n",
            "|  0.4  | 5.709754899797667e-06 | 5.709754917842430e-06 | 1.804476300370020e-14 |\n",
            "|  0.5  | 7.050185822925236e-06 | 7.050185844924274e-06 | 2.199903721510207e-14 |\n",
            "|  0.6  | 8.357521388749474e-06 | 8.357521414496533e-06 | 2.574705890384752e-14 |\n",
            "|  0.7  | 9.632578724550971e-06 | 9.632578753847559e-06 | 2.929658773876635e-14 |\n",
            "|  0.8  | 1.087615478266594e-05 | 1.087615481532109e-05 | 3.265514960759490e-14 |\n",
            "|  0.9  | 1.208902683860738e-05 | 1.208902687443738e-05 | 3.582999850049347e-14 |\n",
            "|  1.0  | 1.327195297688754e-05 | 1.327195301571571e-05 | 3.882816987312195e-14 |\n",
            "|  1.1  | 1.442567256484544e-05 | 1.442567260650189e-05 | 4.165645015345373e-14 |\n",
            "|  1.2  | 1.555090671477553e-05 | 1.555090675909693e-05 | 4.432139876463237e-14 |\n",
            "|  1.3  | 1.664835873464632e-05 | 1.664835878147567e-05 | 4.682935490123510e-14 |\n",
            "|  1.4  | 1.771871456769074e-05 | 1.771871461687720e-05 | 4.918645446993185e-14 |\n",
            "|  1.5  | 1.876264322114306e-05 | 1.876264327254168e-05 | 5.139861653695801e-14 |\n",
            "|  1.6  | 1.978079718439010e-05 | 1.978079723786165e-05 | 5.347155010437810e-14 |\n",
            "|  1.7  | 2.077381283679838e-05 | 2.077381289220917e-05 | 5.541079476766714e-14 |\n",
            "|  1.8  | 2.174231084547193e-05 | 2.174231090269361e-05 | 5.722168005812926e-14 |\n",
            "|  1.9  | 2.268689655318944e-05 | 2.268689661209880e-05 | 5.890936271234735e-14 |\n",
            "|  2.0  | 2.360816035676318e-05 | 2.360816041724201e-05 | 6.047883006031485e-14 |\n",
            "+-------+-----------------------+-----------------------+-----------------------+\n",
            "NILAI q SAAT t = 2s\n",
            "q Runge-Kutta orde 4\t= 2.360816035676318e-05\n",
            "q eksak =  2.360816041724201e-05\n",
            "Error  = 6.047883006031485e-14\n"
          ]
        },
        {
          "output_type": "display_data",
          "data": {
            "text/plain": [
              "<Figure size 640x480 with 1 Axes>"
            ],
            "image/png": "[encoded data removed]"
          },
          "metadata": {}
        }
      ]
    },
    {
      "cell_type": "markdown",
      "source": [
        "# Task 2\n",
        "Sebuah sel bola atau partikel dengan jari-jari a dan kerapatan seragam ρ_s, jatuh di bawah gravitasi dalam cairan dengan kerapatan ρ_f dan viskositas µ Gerakan bola, ketika efek dinding minimal, dapat dijelaskan dengan persamaan:\n",
        "$$\\frac{4}{3} πa^3 ρ_s  \\frac{dv}{dt}+6μπav-\\frac{4}{3} πa^3 (ρ_s-ρ_f )g=0$$\n",
        "Dengan kondisi batas awal\n",
        "$$z=0;v=\\frac{dz}{dt}=0$$\n",
        "Di mana z adalah jarak perpindahan bola pada arah ke bawah. Gerak ke bawah v adalah sepanjang arah z positif. Di sisi kiri persamaan, suku pertama menggambarkan percepatan, suku kedua menggambarkan hambatan viskos, yang sebanding dengan kecepatan bola, dan suku ketiga adalah gaya akibat gravitasi\n",
        "yang bekerja ke bawah dari mana gaya apung telah dikurangi. Dua kondisi awal disertakan untuk menspesifikasikan masalah secara lengkap. Masalah nilai awal ini dapat dikonversi dari satu ODE orde dua menjadi satu set dua ODE orde satu yang digabungkan. Tetapkan y1 = z dan y2 = dz/dt. Kemudian:\n",
        "$$\\frac{dy_1}{dt}=y_2,y_1=0$$\n",
        "$${dy_2}{dt}=\\frac{(ρ_s-ρ_f )}{ρ_s}  g-\\frac{9μ}{2a^2 ρ_s} y_2,y_2=0$$\n",
        "Konstanta ditetapkan ke: $a = 10-4 cm;  ρ_s  = 1,1 g/cm^3; ρ_f = 1 g/cm^3; g = 981 cm/s^2; μ = 3,5 x 10-2 g/cm.s$ Memplotkan perpindahan yang dihitung secara numerik z dan kecepatan dz/dt dengan interval waktu 0 hingga 0,001 detik dan menemukan ukuran langkah minimum untuk mendapatkan kecepatan kondisi tunak (yang tidak bertambah atau berkurang).\n"
      ],
      "metadata": {
        "id": "eNZofeZSjfyN"
      }
    },
    {
      "cell_type": "code",
      "source": [
        "import math\n",
        "from prettytable import PrettyTable\n",
        "import matplotlib.pyplot as plt\n",
        "\n",
        "Tabel = PrettyTable(['t (s)', 'z (cm)', 'v (cm/s)'])\n",
        "Tabel.add_row([0, 0, 0])\n",
        "\n",
        "A = 10e-4   # cm\n",
        "Ps = 1.1    # g/cm^3\n",
        "Pf = 1      # g/cm^3\n",
        "g = 981     # cm/s^2\n",
        "u = 3.5e-2  # g/cm.s\n",
        "\n",
        "def fungsi2(t, y2):\n",
        "    return (((Ps - Pf) / Ps) * g) - ((9 * u / (2 * A**2 * Ps)) * y2)\n",
        "\n",
        "def fungsi1(t, y1):\n",
        "    return y1\n",
        "\n",
        "a = 0\n",
        "b = 0.001\n",
        "h = 0.0002\n",
        "N = round((b - a) / h)\n",
        "t = 0\n",
        "v = 0\n",
        "z = 0\n",
        "ti = [0]\n",
        "fli = [0]\n",
        "f2i = [0]\n",
        "\n",
        "for i in range(0, N):\n",
        "    k1 = h * fungsi1(t, z)\n",
        "    k2 = h * fungsi1(t + (h/2), z + (k1/2))\n",
        "    k3 = h * fungsi1(t + (h/2), z + (k1/2))\n",
        "    k4 = h * fungsi1(t + h, z + k3)\n",
        "    z += ((k1 + 2*k2 + 2*k3 + k4) / 6)\n",
        "\n",
        "    ka = h * fungsi2(t, v)\n",
        "    kb = h * fungsi2(t + (h/2), v + (ka/2))\n",
        "    kc = h * fungsi2(t + (h/2), v + (kb/2))\n",
        "    kd = h * fungsi2(t + h, v + kc)\n",
        "    v += ((ka + 2*kb + 2*kc) / 6)\n",
        "    t += h\n",
        "\n",
        "    Tabel.add_row([round(t, 4), z, v])\n",
        "    ti.append(t)\n",
        "    fli.append(z)\n",
        "    f2i.append(v)\n",
        "\n",
        "print(Tabel)\n",
        "\n",
        "plt.title('Metode Runge-Kutta')\n",
        "plt.xlabel('Waktu (s)')\n",
        "plt.ylabel('z (cm), v (cm/s)')\n",
        "plt.plot(ti, fli, 'o-', label='z = Perpindahan bola')\n",
        "plt.plot(ti, f2i, 'o-', label='v = Percepatan bola')\n",
        "plt.legend()\n",
        "plt.show()\n"
      ],
      "metadata": {
        "colab": {
          "base_uri": "https://localhost:8080/",
          "height": 646
        },
        "id": "I00wWL9Jjhrx",
        "outputId": "c539c75b-3565-4848-f948-73451d5e4e2a"
      },
      "execution_count": null,
      "outputs": [
        {
          "output_type": "stream",
          "name": "stdout",
          "text": [
            "+--------+--------+---------------------+\n",
            "| t (s)  | z (cm) |       v (cm/s)      |\n",
            "+--------+--------+---------------------+\n",
            "|   0    |   0    |          0          |\n",
            "| 0.0002 |  0.0   |  1.063487039819686  |\n",
            "| 0.0004 |  0.0   | -1813.7062339595952 |\n",
            "| 0.0006 |  0.0   |  3094969.815279089  |\n",
            "| 0.0008 |  0.0   |  -5281359618.634318 |\n",
            "| 0.001  |  0.0   |  9012288032426.562  |\n",
            "+--------+--------+---------------------+\n"
          ]
        },
        {
          "output_type": "display_data",
          "data": {
            "text/plain": [
              "<Figure size 640x480 with 1 Axes>"
            ],
            "image/png": "[encoded data removed]"
          },
          "metadata": {}
        }
      ]
    }
  ]
}