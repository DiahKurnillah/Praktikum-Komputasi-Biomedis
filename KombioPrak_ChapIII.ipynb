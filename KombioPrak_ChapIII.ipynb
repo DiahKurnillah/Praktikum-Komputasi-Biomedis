{
  "nbformat": 4,
  "nbformat_minor": 0,
  "metadata": {
    "colab": {
      "provenance": [],
      "authorship_tag": "ABX9TyOJMCE2rvpAJgfow6rS+MU8",
      "include_colab_link": true
    },
    "kernelspec": {
      "name": "python3",
      "display_name": "Python 3"
    },
    "language_info": {
      "name": "python"
    }
  },
  "cells": [
    {
      "cell_type": "markdown",
      "metadata": {
        "id": "view-in-github",
        "colab_type": "text"
      },
      "source": [
        "<a href=\"https://colab.research.google.com/github/DiahKurnillah/Praktikum-Komputasi-Biomedis/blob/main/KombioPrak_ChapIII.ipynb\" target=\"_parent\"><img src=\"https://colab.research.google.com/assets/colab-badge.svg\" alt=\"Open In Colab\"/></a>"
      ]
    },
    {
      "cell_type": "markdown",
      "source": [
        "# **Chapter 3. Finding-Root Method: Newton-Raphson**\n",
        "\n",
        "---\n",
        "**Tujuan** : Menentukan akar-akar fungsi dengan menggunakan metode Newton-Raphson\n",
        "\n",
        "**Literature Review**\n",
        "\n",
        "Masalah pencarian akar adalah salah satu masalah paling dasar dalam analisis numerik. Metode ini menggunakan metode aproksimasi dengan menggunakan satu titik awal dan menurunkannya dengan mengambil kemiringan atau gradien pada titik tersebut. Titik aproksimasi didefinisikan sebagai berikut:\n",
        "$$𝑥_n+_1=𝑥𝑛-𝑓(𝑥_𝑛)/𝑓′(𝑥_𝑛)$$\n",
        "\n"
      ],
      "metadata": {
        "id": "5WcT8VGCZ0Ql"
      }
    },
    {
      "cell_type": "markdown",
      "source": [
        "# Preliminary Task\n",
        "\n",
        "\n",
        "dengan persamaan $𝑓(𝑥)= 𝑥^3 + 𝑥^2 + 𝑥 + 1$\n",
        "\n",
        "Carilah akar-akarnya dalam interval yang diberikan dengan menggunakan metode Newton-Raphson"
      ],
      "metadata": {
        "id": "Q0jb4iS0JfhC"
      }
    },
    {
      "cell_type": "code",
      "execution_count": null,
      "metadata": {
        "colab": {
          "base_uri": "https://localhost:8080/"
        },
        "id": "Q5PbgrUa-dEa",
        "outputId": "c6ea5ba3-e556-4bd6-b255-27b61a4b2f4f"
      },
      "outputs": [
        {
          "output_type": "stream",
          "name": "stdout",
          "text": [
            "Akar yang ditemukan: -1.000000023673033\n",
            "Pada iterasi ke-7\n"
          ]
        }
      ],
      "source": [
        "import math\n",
        "\n",
        "def newton_raphson(f, df, x0, tol, max_iter):\n",
        "    \"\"\"\n",
        "    Metode Newton-Raphson untuk mencari akar suatu persamaan non-linear.\n",
        "\n",
        "    Parameters:\n",
        "        f: Fungsi persamaan yang akan dicari akarnya.\n",
        "        df: Turunan pertama dari fungsi f.\n",
        "        x0: Tebakan awal.\n",
        "        tol: Toleransi, batas error yang diterima.\n",
        "        max_iter: Jumlah maksimum iterasi.\n",
        "\n",
        "    Returns:\n",
        "        x: Akar yang ditemukan.\n",
        "        iter_count: Jumlah iterasi yang dilakukan.\n",
        "    \"\"\"\n",
        "    x = x0\n",
        "    iter_count = 0\n",
        "\n",
        "    while iter_count < max_iter:\n",
        "        f_x = f(x)\n",
        "        df_x = df(x)\n",
        "\n",
        "        if abs(f_x) < tol:\n",
        "            return x, iter_count\n",
        "\n",
        "        x = x - f_x / df_x\n",
        "        iter_count += 1\n",
        "\n",
        "    raise Exception(\"Metode Newton-Raphson tidak konvergen\")\n",
        "\n",
        "# Contoh penggunaan:\n",
        "if __name__ == \"__main__\":\n",
        "    # Definisikan fungsi persamaan dan turunannya\n",
        "    def f(x):\n",
        "        return x**3 + x**2 + x + 1\n",
        "\n",
        "    def df(x):\n",
        "        return 3*x**2 + 2*x + 1\n",
        "\n",
        "    # Tebakan awal, toleransi, dan jumlah maksimum iterasi\n",
        "    x0 = 1.0\n",
        "    tol = 1e-6\n",
        "    max_iter = 10\n",
        "\n",
        "    # Panggil metode Newton-Raphson\n",
        "    akar, iterasi = newton_raphson(f, df, x0, tol, max_iter)\n",
        "\n",
        "    print(f\"Akar yang ditemukan: {akar}\")\n",
        "    print(f\"Pada iterasi ke-{iterasi}\")"
      ]
    },
    {
      "cell_type": "markdown",
      "source": [
        "# Task\n",
        "Osteoporosis in Chinese Woman. Wu et al. (2008) studied the variations in age-related speed of sound (SOS) at the tibia and the prevalence of osteoporosis in native Chinese women. They obtained the following relationship between the SOS and the age in year, Y.\n",
        "\n",
        "\n",
        "$$𝑆𝑂𝑆=3383+39.9𝑌−0.78𝑌^2+0.0039𝑌^3$$\n",
        "\n",
        "Where the SOS is expressed in unit of $m/s$. The SOS for one research subject is measured to be $3850 m/s$. Use the Newton-Raphson to find the root of the above equation! Take $Y=45$ years as initial guess!\n",
        "\n",
        "```\n",
        "𝑆𝑂𝑆 = 3383 + 39.9*𝑌 − 0.78𝑌**2 + 0.0039𝑌**3\n",
        "```\n"
      ],
      "metadata": {
        "id": "165AlQdlaAJy"
      }
    },
    {
      "cell_type": "code",
      "source": [
        "import numpy as np\n",
        "import math\n",
        "from matplotlib import pylab, mlab, pyplot\n",
        "\n",
        "def f(x):\n",
        "  return 3383 - 3850 + 39.9*x - 0.78*x**2 + 0.0039*x**3\n",
        "\n",
        "def df(x):\n",
        "  return 39.9 - 1.56*x + 0.0117*x**2\n",
        "\n",
        "Y = 45 # Sebagai nilai tebakan awal\n",
        "iterasi = 100\n",
        "toleransi = 0.01\n",
        "\n",
        "# Menyimpan nilai dalam bentuk array untuk kemudian di plot\n",
        "iterasi = []\n",
        "x_values = []\n",
        "f_values = []\n",
        "xn = Y\n",
        "n = 0\n",
        "\n",
        "print(\"Iterasi   |   xn   |   f(xn)\")\n",
        "print('============================')\n",
        "while True:\n",
        "  fn = f(xn)\n",
        "  xn = xn - fn / df(xn) # Rumus untuk newton rapson method\n",
        "  n += 1\n",
        "  iterasi.append(len(iterasi) + 1)\n",
        "  x_values.append(xn)\n",
        "  f_values.append(fn)\n",
        "\n",
        "  print(f\"{n:<10}| {xn:<6.4f}| {f(xn):<6.4f}\")\n",
        "\n",
        "  if abs(fn) < toleransi:\n",
        "      print(f\"Metode Newton-Raphson konvergen. Didapat nilai akar: {xn:6.4f}\")\n",
        "      break\n",
        "\n",
        "\n",
        "# Plot the function f(x) and iterasi\n",
        "x_range = np.linspace(min(x_values) - 1, max(x_values) + 1, 100)\n",
        "y_range = f(x_range)\n",
        "\n",
        "\n",
        "pylab.plot(x_range, y_range,label='f(x)')\n",
        "pylab.plot(x_values,f_values,\"-o\",label='Iterasi')\n",
        "pylab.title('Newton-Raphson Method')\n",
        "pylab.xlabel(\"x\")\n",
        "pylab.ylabel(\"f(x)\")\n",
        "pylab.legend()\n",
        "pylab.grid (True)"
      ],
      "metadata": {
        "colab": {
          "base_uri": "https://localhost:8080/",
          "height": 594
        },
        "id": "6nJLUBr0bBEr",
        "outputId": "813556e4-1dbb-4c0e-9481-7b4b1fa64ca2"
      },
      "execution_count": null,
      "outputs": [
        {
          "output_type": "stream",
          "name": "stdout",
          "text": [
            "Iterasi   |   xn   |   f(xn)\n",
            "============================\n",
            "1         | 60.7983| -47.8924\n",
            "2         | 56.7039| -1.4187\n",
            "3         | 56.5742| -0.0020\n",
            "4         | 56.5741| -0.0000\n",
            "Metode Newton-Raphson konvergen. Didapat nilai akar: 56.5741\n"
          ]
        },
        {
          "output_type": "display_data",
          "data": {
            "text/plain": [
              "<Figure size 640x480 with 1 Axes>"
            ],
            "image/png": "[encoded data removed]"
          },
          "metadata": {}
        }
      ]
    },
    {
      "cell_type": "markdown",
      "source": [
        "Dari hasil program diatas, didapat nilai akar yang mendekati adalah 56.5741 atau dapat ditarik kesimpulan usia wanita yang mengalami osteoporosis adalah 56 tahun dengan nilai error 0.01."
      ],
      "metadata": {
        "id": "gAKttENeS9Gx"
      }
    },
    {
      "cell_type": "markdown",
      "source": [
        "**Modifikasi Program agar nilai dapat diinputkan oleh user**"
      ],
      "metadata": {
        "id": "Rlhk7ZgJmASi"
      }
    },
    {
      "cell_type": "code",
      "source": [
        "import math\n",
        "import matplotlib.pyplot as plt\n",
        "def metode_newton(fungsi, turunan, x, iterasi):\n",
        "  #function yang akan di call untuk memulia perhitungan\n",
        "  #fungsi merupakan variabel untuk persamaan\n",
        "  #turunan merupakan variabel untuk turunan pertama dari persamaan\n",
        "  #x merupakan variabel untuk umur\n",
        "  #iterasi merupakan variabel untuk jumlah perhitungan yang dilakukan\n",
        "\n",
        "  def f(x):\n",
        "    #function untuk mencari nilai persamaan\n",
        "    f = eval(fungsi)\n",
        "    return f\n",
        "\n",
        "  def df(x):\n",
        "    #function untuk mencri nilai dari turunan persamaan\n",
        "    df = eval(turunan)\n",
        "    return df\n",
        "\n",
        "  for perhitungan in range(1, iterasi):\n",
        "    #mulai melkukan perhitungan sebanyak iterasi\n",
        "    i = x - (f(x)/df(x))      #rumus untuk newton rapson method\n",
        "    x = i                     #menjadikan x sebagai i yang baru untuk memulai ulang perhitungan\n",
        "\n",
        "\n",
        "  print(f\"Nilai akar {x} dengan jumlah iterais {iterasi}\")\n",
        "\n",
        "#Menerima user input\n",
        "persamaan = input(\"Tolong masukan persamaan : \") #Variabel input berupa persamaan dari user\n",
        "turunannya = input(\"Tolong masukan turunannya :\") #Variabel input berupa turunan dari persamaan yang diberikan user\n",
        "tebakan = float(input(\"Nilai tebakan awal :\")) #Variabel berupa nilai tebakan awal dengan tipe data float\n",
        "perulangan = int(input(\"Jumlah iterasi yang diingikan : \")) #Variabel berupa banyaknya terasi yang di butuhkan user dengan tipe integer\n",
        "\n",
        "#Memanggil function untuk perhitungan menggunakan newton raphson\n",
        "metode_newton(persamaan, turunannya, tebakan, perulangan)\n",
        "\n",
        "#metodenewton(\"x**2-2\", \"2*x\", 2, 50) #persamaan dasar untuk menguji program\n",
        "#metodenewton(\"3383 - 3850 + 39.9*x - 0.78*x**2 + 0.0039*x**3\",\"39.9 - 1.56*x + 0.0117*x**2\", 45, 200) #persamaan perhitungan osteoporosis\n",
        "\n",
        "\n"
      ],
      "metadata": {
        "id": "fqgWTa1zSiGQ",
        "colab": {
          "base_uri": "https://localhost:8080/"
        },
        "outputId": "0431389d-8359-4f7c-d3b5-72e2722337e1"
      },
      "execution_count": null,
      "outputs": [
        {
          "output_type": "stream",
          "name": "stdout",
          "text": [
            "Tolong masukan persamaan : 3383 - 3850 + 39.9*x - 0.78*x**2 + 0.0039*x**3\n",
            "Tolong masukan turunannya :39.9 - 1.56*x + 0.0117*x**2\n",
            "Nilai tebakan awal :45\n",
            "Jumlah iterasi yang diingikan : 100\n",
            "Nilai akar 56.57406671665462 dengan jumlah iterais 100\n"
          ]
        }
      ]
    }
  ]
}